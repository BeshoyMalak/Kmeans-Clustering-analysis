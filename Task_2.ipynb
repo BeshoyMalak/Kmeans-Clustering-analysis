{
  "nbformat": 4,
  "nbformat_minor": 0,
  "metadata": {
    "colab": {
      "name": "Task-2.ipynb",
      "provenance": []
    },
    "kernelspec": {
      "name": "python3",
      "display_name": "Python 3"
    },
    "language_info": {
      "name": "python"
    }
  },
  "cells": [
    {
      "cell_type": "code",
      "execution_count": 1,
      "metadata": {
        "id": "QTnwAGlVv_a9"
      },
      "outputs": [],
      "source": [
        "import os\n",
        "from scipy import ndimage, misc\n",
        "from matplotlib import pyplot as plt\n",
        "import numpy as np\n",
        "import imageio\n",
        "from sklearn.datasets import load_boston, load_digits, load_iris, load_wine\n",
        "from sklearn.decomposition import PCA\n",
        "from sklearn.decomposition import TruncatedSVD\n",
        "import cv2\n",
        "from sklearn.svm import SVR\n",
        "import pandas as pd\n",
        "from sklearn.metrics import mean_squared_error\n",
        "from sklearn.model_selection import train_test_split\n",
        "from sklearn.preprocessing import StandardScaler\n",
        "import seaborn as sns; sns.set()  # for plot styling\n",
        "from sklearn.cluster import KMeans\n",
        "from sklearn import preprocessing"
      ]
    },
    {
      "cell_type": "code",
      "source": [
        "df = pd.read_excel('Dummy dataset.xlsx')"
      ],
      "metadata": {
        "id": "HIsTP4v8weJs"
      },
      "execution_count": 2,
      "outputs": []
    },
    {
      "cell_type": "markdown",
      "source": [
        "As we see, There are some null rows have to be handled first."
      ],
      "metadata": {
        "id": "tIYL_Ujaw1NW"
      }
    },
    {
      "cell_type": "code",
      "source": [
        "df.info()"
      ],
      "metadata": {
        "colab": {
          "base_uri": "https://localhost:8080/"
        },
        "id": "qfbMMyS0wvCA",
        "outputId": "720b6452-f50f-41ff-97cd-5a2e57ffc6fb"
      },
      "execution_count": 3,
      "outputs": [
        {
          "output_type": "stream",
          "name": "stdout",
          "text": [
            "<class 'pandas.core.frame.DataFrame'>\n",
            "RangeIndex: 38685 entries, 0 to 38684\n",
            "Data columns (total 11 columns):\n",
            " #   Column            Non-Null Count  Dtype         \n",
            "---  ------            --------------  -----         \n",
            " 0   Total O/S         38685 non-null  float64       \n",
            " 1   TENOR_@Booking    38685 non-null  int64         \n",
            " 2   Loan Term         38685 non-null  object        \n",
            " 3   BOOKING_DATE      38685 non-null  datetime64[ns]\n",
            " 4   MATURITY_DATE     38685 non-null  datetime64[ns]\n",
            " 5    DPD              38685 non-null  int64         \n",
            " 6   DOB               38601 non-null  datetime64[ns]\n",
            " 7   AGE               38601 non-null  float64       \n",
            " 8   AGE at Maturity   38601 non-null  datetime64[ns]\n",
            " 9   GENDER            38677 non-null  object        \n",
            " 10  Customer Segment  38666 non-null  object        \n",
            "dtypes: datetime64[ns](4), float64(2), int64(2), object(3)\n",
            "memory usage: 3.2+ MB\n"
          ]
        }
      ]
    },
    {
      "cell_type": "code",
      "source": [
        "df.drop(\"DOB\", axis=1, inplace = True)"
      ],
      "metadata": {
        "id": "krBcRIaHxodV"
      },
      "execution_count": 4,
      "outputs": []
    },
    {
      "cell_type": "code",
      "source": [
        "df.info()"
      ],
      "metadata": {
        "colab": {
          "base_uri": "https://localhost:8080/"
        },
        "id": "Pl92j0BmzMJX",
        "outputId": "a21c1db0-c7ba-4930-9238-bc49cc5f7419"
      },
      "execution_count": 5,
      "outputs": [
        {
          "output_type": "stream",
          "name": "stdout",
          "text": [
            "<class 'pandas.core.frame.DataFrame'>\n",
            "RangeIndex: 38685 entries, 0 to 38684\n",
            "Data columns (total 10 columns):\n",
            " #   Column            Non-Null Count  Dtype         \n",
            "---  ------            --------------  -----         \n",
            " 0   Total O/S         38685 non-null  float64       \n",
            " 1   TENOR_@Booking    38685 non-null  int64         \n",
            " 2   Loan Term         38685 non-null  object        \n",
            " 3   BOOKING_DATE      38685 non-null  datetime64[ns]\n",
            " 4   MATURITY_DATE     38685 non-null  datetime64[ns]\n",
            " 5    DPD              38685 non-null  int64         \n",
            " 6   AGE               38601 non-null  float64       \n",
            " 7   AGE at Maturity   38601 non-null  datetime64[ns]\n",
            " 8   GENDER            38677 non-null  object        \n",
            " 9   Customer Segment  38666 non-null  object        \n",
            "dtypes: datetime64[ns](3), float64(2), int64(2), object(3)\n",
            "memory usage: 3.0+ MB\n"
          ]
        }
      ]
    },
    {
      "cell_type": "code",
      "source": [
        "df.head()"
      ],
      "metadata": {
        "colab": {
          "base_uri": "https://localhost:8080/",
          "height": 206
        },
        "id": "CiumK7ZBhVjN",
        "outputId": "b7d6a86d-27b0-43e3-9871-88a67112bcb5"
      },
      "execution_count": 6,
      "outputs": [
        {
          "output_type": "execute_result",
          "data": {
            "text/html": [
              "\n",
              "  <div id=\"df-013cbc5d-2b4f-490f-8ccf-aa0ab86ec856\">\n",
              "    <div class=\"colab-df-container\">\n",
              "      <div>\n",
              "<style scoped>\n",
              "    .dataframe tbody tr th:only-of-type {\n",
              "        vertical-align: middle;\n",
              "    }\n",
              "\n",
              "    .dataframe tbody tr th {\n",
              "        vertical-align: top;\n",
              "    }\n",
              "\n",
              "    .dataframe thead th {\n",
              "        text-align: right;\n",
              "    }\n",
              "</style>\n",
              "<table border=\"1\" class=\"dataframe\">\n",
              "  <thead>\n",
              "    <tr style=\"text-align: right;\">\n",
              "      <th></th>\n",
              "      <th>Total O/S</th>\n",
              "      <th>TENOR_@Booking</th>\n",
              "      <th>Loan Term</th>\n",
              "      <th>BOOKING_DATE</th>\n",
              "      <th>MATURITY_DATE</th>\n",
              "      <th>DPD</th>\n",
              "      <th>AGE</th>\n",
              "      <th>AGE at Maturity</th>\n",
              "      <th>GENDER</th>\n",
              "      <th>Customer Segment</th>\n",
              "    </tr>\n",
              "  </thead>\n",
              "  <tbody>\n",
              "    <tr>\n",
              "      <th>0</th>\n",
              "      <td>178630.00</td>\n",
              "      <td>120</td>\n",
              "      <td>10 Years</td>\n",
              "      <td>2019-07-31</td>\n",
              "      <td>2029-04-03</td>\n",
              "      <td>0</td>\n",
              "      <td>38.469863</td>\n",
              "      <td>1948-04-04</td>\n",
              "      <td>MALE</td>\n",
              "      <td>Salaried</td>\n",
              "    </tr>\n",
              "    <tr>\n",
              "      <th>1</th>\n",
              "      <td>376444.57</td>\n",
              "      <td>120</td>\n",
              "      <td>10 Years</td>\n",
              "      <td>2019-03-04</td>\n",
              "      <td>2028-07-03</td>\n",
              "      <td>0</td>\n",
              "      <td>58.212329</td>\n",
              "      <td>1967-12-27</td>\n",
              "      <td>MALE</td>\n",
              "      <td>Salaried</td>\n",
              "    </tr>\n",
              "    <tr>\n",
              "      <th>2</th>\n",
              "      <td>253984.28</td>\n",
              "      <td>84</td>\n",
              "      <td>7 Years</td>\n",
              "      <td>2019-05-05</td>\n",
              "      <td>2025-07-03</td>\n",
              "      <td>0</td>\n",
              "      <td>56.806849</td>\n",
              "      <td>1963-08-01</td>\n",
              "      <td>MALE</td>\n",
              "      <td>Salaried</td>\n",
              "    </tr>\n",
              "    <tr>\n",
              "      <th>3</th>\n",
              "      <td>779620.11</td>\n",
              "      <td>108</td>\n",
              "      <td>9 Years</td>\n",
              "      <td>2021-04-26</td>\n",
              "      <td>2030-04-25</td>\n",
              "      <td>5</td>\n",
              "      <td>38.028767</td>\n",
              "      <td>1946-10-26</td>\n",
              "      <td>MALE</td>\n",
              "      <td>Self Employed &amp; Professional</td>\n",
              "    </tr>\n",
              "    <tr>\n",
              "      <th>4</th>\n",
              "      <td>103377.43</td>\n",
              "      <td>60</td>\n",
              "      <td>5 Years</td>\n",
              "      <td>2021-04-27</td>\n",
              "      <td>2026-04-25</td>\n",
              "      <td>0</td>\n",
              "      <td>40.343836</td>\n",
              "      <td>1945-02-17</td>\n",
              "      <td>MALE</td>\n",
              "      <td>Salaried</td>\n",
              "    </tr>\n",
              "  </tbody>\n",
              "</table>\n",
              "</div>\n",
              "      <button class=\"colab-df-convert\" onclick=\"convertToInteractive('df-013cbc5d-2b4f-490f-8ccf-aa0ab86ec856')\"\n",
              "              title=\"Convert this dataframe to an interactive table.\"\n",
              "              style=\"display:none;\">\n",
              "        \n",
              "  <svg xmlns=\"http://www.w3.org/2000/svg\" height=\"24px\"viewBox=\"0 0 24 24\"\n",
              "       width=\"24px\">\n",
              "    <path d=\"M0 0h24v24H0V0z\" fill=\"none\"/>\n",
              "    <path d=\"M18.56 5.44l.94 2.06.94-2.06 2.06-.94-2.06-.94-.94-2.06-.94 2.06-2.06.94zm-11 1L8.5 8.5l.94-2.06 2.06-.94-2.06-.94L8.5 2.5l-.94 2.06-2.06.94zm10 10l.94 2.06.94-2.06 2.06-.94-2.06-.94-.94-2.06-.94 2.06-2.06.94z\"/><path d=\"M17.41 7.96l-1.37-1.37c-.4-.4-.92-.59-1.43-.59-.52 0-1.04.2-1.43.59L10.3 9.45l-7.72 7.72c-.78.78-.78 2.05 0 2.83L4 21.41c.39.39.9.59 1.41.59.51 0 1.02-.2 1.41-.59l7.78-7.78 2.81-2.81c.8-.78.8-2.07 0-2.86zM5.41 20L4 18.59l7.72-7.72 1.47 1.35L5.41 20z\"/>\n",
              "  </svg>\n",
              "      </button>\n",
              "      \n",
              "  <style>\n",
              "    .colab-df-container {\n",
              "      display:flex;\n",
              "      flex-wrap:wrap;\n",
              "      gap: 12px;\n",
              "    }\n",
              "\n",
              "    .colab-df-convert {\n",
              "      background-color: #E8F0FE;\n",
              "      border: none;\n",
              "      border-radius: 50%;\n",
              "      cursor: pointer;\n",
              "      display: none;\n",
              "      fill: #1967D2;\n",
              "      height: 32px;\n",
              "      padding: 0 0 0 0;\n",
              "      width: 32px;\n",
              "    }\n",
              "\n",
              "    .colab-df-convert:hover {\n",
              "      background-color: #E2EBFA;\n",
              "      box-shadow: 0px 1px 2px rgba(60, 64, 67, 0.3), 0px 1px 3px 1px rgba(60, 64, 67, 0.15);\n",
              "      fill: #174EA6;\n",
              "    }\n",
              "\n",
              "    [theme=dark] .colab-df-convert {\n",
              "      background-color: #3B4455;\n",
              "      fill: #D2E3FC;\n",
              "    }\n",
              "\n",
              "    [theme=dark] .colab-df-convert:hover {\n",
              "      background-color: #434B5C;\n",
              "      box-shadow: 0px 1px 3px 1px rgba(0, 0, 0, 0.15);\n",
              "      filter: drop-shadow(0px 1px 2px rgba(0, 0, 0, 0.3));\n",
              "      fill: #FFFFFF;\n",
              "    }\n",
              "  </style>\n",
              "\n",
              "      <script>\n",
              "        const buttonEl =\n",
              "          document.querySelector('#df-013cbc5d-2b4f-490f-8ccf-aa0ab86ec856 button.colab-df-convert');\n",
              "        buttonEl.style.display =\n",
              "          google.colab.kernel.accessAllowed ? 'block' : 'none';\n",
              "\n",
              "        async function convertToInteractive(key) {\n",
              "          const element = document.querySelector('#df-013cbc5d-2b4f-490f-8ccf-aa0ab86ec856');\n",
              "          const dataTable =\n",
              "            await google.colab.kernel.invokeFunction('convertToInteractive',\n",
              "                                                     [key], {});\n",
              "          if (!dataTable) return;\n",
              "\n",
              "          const docLinkHtml = 'Like what you see? Visit the ' +\n",
              "            '<a target=\"_blank\" href=https://colab.research.google.com/notebooks/data_table.ipynb>data table notebook</a>'\n",
              "            + ' to learn more about interactive tables.';\n",
              "          element.innerHTML = '';\n",
              "          dataTable['output_type'] = 'display_data';\n",
              "          await google.colab.output.renderOutput(dataTable, element);\n",
              "          const docLink = document.createElement('div');\n",
              "          docLink.innerHTML = docLinkHtml;\n",
              "          element.appendChild(docLink);\n",
              "        }\n",
              "      </script>\n",
              "    </div>\n",
              "  </div>\n",
              "  "
            ],
            "text/plain": [
              "   Total O/S  TENOR_@Booking  ... GENDER              Customer Segment\n",
              "0  178630.00             120  ...   MALE                      Salaried\n",
              "1  376444.57             120  ...   MALE                      Salaried\n",
              "2  253984.28              84  ...   MALE                      Salaried\n",
              "3  779620.11             108  ...   MALE  Self Employed & Professional\n",
              "4  103377.43              60  ...   MALE                      Salaried\n",
              "\n",
              "[5 rows x 10 columns]"
            ]
          },
          "metadata": {},
          "execution_count": 6
        }
      ]
    },
    {
      "cell_type": "code",
      "source": [
        "segments = {'Salaried': 0, 'Self Employed & Professional':1}\n",
        "df = df.replace({\"Customer Segment\": segments})\n",
        "\n",
        "gends = {'MALE': 0, 'Male': 0, 'Female': 1,'FEMALE': 1}\n",
        "df = df.replace({\"GENDER\": gends})\n",
        "\n",
        "years = {'10 Years': 10, '7 Years': 7 , '9 Years': 9, '8 Years': 8 , '6 Years': 6 , '5 Years': 5 , '4 Years': 4 ,\n",
        "         '3 Years': 3 , '2 Years': 2 , '1 Year': 1 , 'More than 10 Years': 11 }\n",
        "df = df.replace({\"Loan Term\": years})\n",
        "\n",
        "\n",
        "df.dropna()\n",
        "df.drop(\"AGE at Maturity\", axis=1, inplace = True)\n",
        "df.drop(\"MATURITY_DATE\", axis=1, inplace = True)\n"
      ],
      "metadata": {
        "id": "6RYeSZmlNwGg"
      },
      "execution_count": 7,
      "outputs": []
    },
    {
      "cell_type": "code",
      "source": [
        "import datetime\n",
        "current_time = datetime.datetime.now()\n",
        "ago = current_time - df['BOOKING_DATE']\n",
        "df['ago'] = ago\n",
        "df[\"ago\"].apply(lambda x: x/np.timedelta64(1, 'Y')).fillna(0).astype('int64')"
      ],
      "metadata": {
        "colab": {
          "base_uri": "https://localhost:8080/"
        },
        "id": "GF0TvAIFPvjH",
        "outputId": "ad51d8c0-abd0-46d6-b2d2-9ba8d6357faf"
      },
      "execution_count": 8,
      "outputs": [
        {
          "output_type": "execute_result",
          "data": {
            "text/plain": [
              "0        2\n",
              "1        2\n",
              "2        2\n",
              "3        0\n",
              "4        0\n",
              "        ..\n",
              "38680    8\n",
              "38681    7\n",
              "38682    8\n",
              "38683    6\n",
              "38684    9\n",
              "Name: ago, Length: 38685, dtype: int64"
            ]
          },
          "metadata": {},
          "execution_count": 8
        }
      ]
    },
    {
      "cell_type": "code",
      "source": [
        "df.drop(\"BOOKING_DATE\", axis=1, inplace = True)"
      ],
      "metadata": {
        "id": "U2UANTBGPwhZ"
      },
      "execution_count": 9,
      "outputs": []
    },
    {
      "cell_type": "code",
      "source": [
        "df['ago'] = df[\"ago\"].apply(lambda x: x/np.timedelta64(1, 'Y')).fillna(0).astype('int64')"
      ],
      "metadata": {
        "id": "7XM-YDseRCkV"
      },
      "execution_count": 10,
      "outputs": []
    },
    {
      "cell_type": "code",
      "source": [
        "df.info()"
      ],
      "metadata": {
        "colab": {
          "base_uri": "https://localhost:8080/"
        },
        "id": "-0gYeBOxQ6TR",
        "outputId": "ccbe6607-3584-41e8-eea0-4862b403306e"
      },
      "execution_count": 11,
      "outputs": [
        {
          "output_type": "stream",
          "name": "stdout",
          "text": [
            "<class 'pandas.core.frame.DataFrame'>\n",
            "RangeIndex: 38685 entries, 0 to 38684\n",
            "Data columns (total 8 columns):\n",
            " #   Column            Non-Null Count  Dtype  \n",
            "---  ------            --------------  -----  \n",
            " 0   Total O/S         38685 non-null  float64\n",
            " 1   TENOR_@Booking    38685 non-null  int64  \n",
            " 2   Loan Term         38685 non-null  int64  \n",
            " 3    DPD              38685 non-null  int64  \n",
            " 4   AGE               38601 non-null  float64\n",
            " 5   GENDER            38677 non-null  float64\n",
            " 6   Customer Segment  38666 non-null  float64\n",
            " 7   ago               38685 non-null  int64  \n",
            "dtypes: float64(4), int64(4)\n",
            "memory usage: 2.4 MB\n"
          ]
        }
      ]
    },
    {
      "cell_type": "markdown",
      "source": [
        "FV=PV×(1+i)^n\n",
        " \n",
        "where:\n",
        "FV=Future value\n",
        "PV=Present value (original amount of money)\n",
        "i=Interest rate per period\n",
        "n=Number of periods"
      ],
      "metadata": {
        "id": "PzZ6EBz6P8uA"
      }
    },
    {
      "cell_type": "code",
      "source": [
        "i = 0.45\n",
        "df['Total O/S'] = df['Total O/S']*(1+i)**df['ago']"
      ],
      "metadata": {
        "id": "3glal_aYPzz_"
      },
      "execution_count": 12,
      "outputs": []
    },
    {
      "cell_type": "code",
      "source": [
        "df.duplicated().sum()"
      ],
      "metadata": {
        "colab": {
          "base_uri": "https://localhost:8080/"
        },
        "id": "QhxX5Pw5zQbz",
        "outputId": "5650a426-616e-4296-c0f0-f6e1727d61f6"
      },
      "execution_count": 13,
      "outputs": [
        {
          "output_type": "execute_result",
          "data": {
            "text/plain": [
              "836"
            ]
          },
          "metadata": {},
          "execution_count": 13
        }
      ]
    },
    {
      "cell_type": "code",
      "source": [
        "df.drop_duplicates(subset = None, keep = \"first\", inplace = True)"
      ],
      "metadata": {
        "id": "9zkTpEDyzjqG"
      },
      "execution_count": 14,
      "outputs": []
    },
    {
      "cell_type": "code",
      "source": [
        "df.duplicated().sum()"
      ],
      "metadata": {
        "colab": {
          "base_uri": "https://localhost:8080/"
        },
        "id": "Y_h0BDF-z3GJ",
        "outputId": "4ff0557e-a7d5-4e4b-d342-a978dbad219f"
      },
      "execution_count": 15,
      "outputs": [
        {
          "output_type": "execute_result",
          "data": {
            "text/plain": [
              "0"
            ]
          },
          "metadata": {},
          "execution_count": 15
        }
      ]
    },
    {
      "cell_type": "code",
      "source": [
        "df.isnull().sum()"
      ],
      "metadata": {
        "colab": {
          "base_uri": "https://localhost:8080/"
        },
        "id": "rF_mth-SRVoa",
        "outputId": "5979fb33-b1b8-4d62-cce5-20d776c0fc69"
      },
      "execution_count": 16,
      "outputs": [
        {
          "output_type": "execute_result",
          "data": {
            "text/plain": [
              "Total O/S            0\n",
              "TENOR_@Booking       0\n",
              "Loan Term            0\n",
              " DPD                 0\n",
              "AGE                 65\n",
              "GENDER               7\n",
              "Customer Segment    19\n",
              "ago                  0\n",
              "dtype: int64"
            ]
          },
          "metadata": {},
          "execution_count": 16
        }
      ]
    },
    {
      "cell_type": "code",
      "source": [
        "df = df.dropna(axis=0, how='any')"
      ],
      "metadata": {
        "id": "r26qg_-bOMuN"
      },
      "execution_count": 17,
      "outputs": []
    },
    {
      "cell_type": "code",
      "source": [
        "df.isnull().sum()"
      ],
      "metadata": {
        "colab": {
          "base_uri": "https://localhost:8080/"
        },
        "id": "aXYOs7tNR4TX",
        "outputId": "bad8dee4-6d13-4154-c7cf-bb74aa71cfcb"
      },
      "execution_count": 18,
      "outputs": [
        {
          "output_type": "execute_result",
          "data": {
            "text/plain": [
              "Total O/S           0\n",
              "TENOR_@Booking      0\n",
              "Loan Term           0\n",
              " DPD                0\n",
              "AGE                 0\n",
              "GENDER              0\n",
              "Customer Segment    0\n",
              "ago                 0\n",
              "dtype: int64"
            ]
          },
          "metadata": {},
          "execution_count": 18
        }
      ]
    },
    {
      "cell_type": "code",
      "source": [
        "df.info()"
      ],
      "metadata": {
        "colab": {
          "base_uri": "https://localhost:8080/"
        },
        "id": "iApt9rzKOPw7",
        "outputId": "c997bd05-c59a-4980-ccd8-f15d3f51d4d2"
      },
      "execution_count": 19,
      "outputs": [
        {
          "output_type": "stream",
          "name": "stdout",
          "text": [
            "<class 'pandas.core.frame.DataFrame'>\n",
            "Int64Index: 37761 entries, 0 to 38684\n",
            "Data columns (total 8 columns):\n",
            " #   Column            Non-Null Count  Dtype  \n",
            "---  ------            --------------  -----  \n",
            " 0   Total O/S         37761 non-null  float64\n",
            " 1   TENOR_@Booking    37761 non-null  int64  \n",
            " 2   Loan Term         37761 non-null  int64  \n",
            " 3    DPD              37761 non-null  int64  \n",
            " 4   AGE               37761 non-null  float64\n",
            " 5   GENDER            37761 non-null  float64\n",
            " 6   Customer Segment  37761 non-null  float64\n",
            " 7   ago               37761 non-null  int64  \n",
            "dtypes: float64(4), int64(4)\n",
            "memory usage: 2.6 MB\n"
          ]
        }
      ]
    },
    {
      "cell_type": "code",
      "source": [
        "X = df.to_numpy()"
      ],
      "metadata": {
        "id": "5g-IEZzJlT9I"
      },
      "execution_count": 20,
      "outputs": []
    },
    {
      "cell_type": "code",
      "source": [
        "X"
      ],
      "metadata": {
        "colab": {
          "base_uri": "https://localhost:8080/"
        },
        "id": "-_nirrJ_l4Wz",
        "outputId": "5142c073-428d-4b61-b534-9feb78ce927e"
      },
      "execution_count": 21,
      "outputs": [
        {
          "output_type": "execute_result",
          "data": {
            "text/plain": [
              "array([[3.75569575e+05, 1.20000000e+02, 1.00000000e+01, ...,\n",
              "        0.00000000e+00, 0.00000000e+00, 2.00000000e+00],\n",
              "       [7.91474708e+05, 1.20000000e+02, 1.00000000e+01, ...,\n",
              "        0.00000000e+00, 0.00000000e+00, 2.00000000e+00],\n",
              "       [5.34001949e+05, 8.40000000e+01, 7.00000000e+00, ...,\n",
              "        0.00000000e+00, 0.00000000e+00, 2.00000000e+00],\n",
              "       ...,\n",
              "       [1.00635509e+02, 1.08000000e+02, 9.00000000e+00, ...,\n",
              "        0.00000000e+00, 0.00000000e+00, 8.00000000e+00],\n",
              "       [2.03541105e+01, 9.60000000e+01, 8.00000000e+00, ...,\n",
              "        0.00000000e+00, 0.00000000e+00, 6.00000000e+00],\n",
              "       [2.09673594e+01, 1.08000000e+02, 9.00000000e+00, ...,\n",
              "        0.00000000e+00, 0.00000000e+00, 9.00000000e+00]])"
            ]
          },
          "metadata": {},
          "execution_count": 21
        }
      ]
    },
    {
      "cell_type": "code",
      "source": [
        "sse = []\n",
        "Krange =  range(1,20)\n",
        "for i in Krange:\n",
        "  kmeans = KMeans(n_clusters=3, random_state=0)\n",
        "  y_prdeicted = kmeans.fit_predict(X)\n",
        "  sse.append(kmeans.inertia_)"
      ],
      "metadata": {
        "id": "f9pSdu9lO2NF"
      },
      "execution_count": 22,
      "outputs": []
    },
    {
      "cell_type": "code",
      "source": [
        "plt.xlabel(\"K\")\n",
        "plt.ylabel(\"sum of squared error\")\n",
        "plt.plot(Krange,sse)"
      ],
      "metadata": {
        "colab": {
          "base_uri": "https://localhost:8080/",
          "height": 314
        },
        "id": "W_wh8qhn6sgL",
        "outputId": "e2283ae0-2d4a-49a8-b9df-dbb8f0b460e6"
      },
      "execution_count": 23,
      "outputs": [
        {
          "output_type": "execute_result",
          "data": {
            "text/plain": [
              "[<matplotlib.lines.Line2D at 0x7f8bc8a4da10>]"
            ]
          },
          "metadata": {},
          "execution_count": 23
        },
        {
          "output_type": "display_data",
          "data": {
            "image/png": "[encoded data removed]",
            "text/plain": [
              "<Figure size 432x288 with 1 Axes>"
            ]
          },
          "metadata": {
            "needs_background": "light"
          }
        }
      ]
    },
    {
      "cell_type": "code",
      "source": [
        "df['cluster'] = y_prdeicted"
      ],
      "metadata": {
        "colab": {
          "base_uri": "https://localhost:8080/"
        },
        "id": "85fvuj55UwQY",
        "outputId": "ec09ab28-93f4-4ba4-f9a0-b2e8eef89c61"
      },
      "execution_count": 46,
      "outputs": [
        {
          "output_type": "execute_result",
          "data": {
            "text/plain": [
              "2"
            ]
          },
          "metadata": {},
          "execution_count": 46
        }
      ]
    },
    {
      "cell_type": "code",
      "source": [
        "fig, ax = plt.subplots(figsize=(15,5))         # Sample figsize in inches\n",
        "sns.heatmap(df.corr(), annot = True, ax=ax, cmap=\"RdPu\");\n",
        "plt.title('Correlation between the variables')\n",
        "plt.xticks(rotation=45);"
      ],
      "metadata": {
        "colab": {
          "base_uri": "https://localhost:8080/",
          "height": 411
        },
        "id": "pzN-BVvsWIFe",
        "outputId": "950b6756-06e5-428f-a84f-b78418fd9fb3"
      },
      "execution_count": 25,
      "outputs": [
        {
          "output_type": "display_data",
          "data": {
            "image/png": "[encoded data removed]",
            "text/plain": [
              "<Figure size 1080x360 with 2 Axes>"
            ]
          },
          "metadata": {
            "needs_background": "light"
          }
        }
      ]
    },
    {
      "cell_type": "code",
      "source": [
        "plt.scatter(df[' DPD'],df['Total O/S'])"
      ],
      "metadata": {
        "colab": {
          "base_uri": "https://localhost:8080/",
          "height": 297
        },
        "id": "BIH_YKUVjCKR",
        "outputId": "5dc53716-0ef4-47f5-973f-38db961b9d26"
      },
      "execution_count": 26,
      "outputs": [
        {
          "output_type": "execute_result",
          "data": {
            "text/plain": [
              "<matplotlib.collections.PathCollection at 0x7f8bc7f66810>"
            ]
          },
          "metadata": {},
          "execution_count": 26
        },
        {
          "output_type": "display_data",
          "data": {
            "image/png": "[encoded data removed]",
            "text/plain": [
              "<Figure size 432x288 with 1 Axes>"
            ]
          },
          "metadata": {
            "needs_background": "light"
          }
        }
      ]
    },
    {
      "cell_type": "code",
      "source": [
        "plt.scatter(df[' DPD'],df['Loan Term'])"
      ],
      "metadata": {
        "colab": {
          "base_uri": "https://localhost:8080/",
          "height": 286
        },
        "id": "yxvmGH3JkRh1",
        "outputId": "7175469f-c2d1-458e-ee5d-338f91389ae5"
      },
      "execution_count": 27,
      "outputs": [
        {
          "output_type": "execute_result",
          "data": {
            "text/plain": [
              "<matplotlib.collections.PathCollection at 0x7f8bc7de8b90>"
            ]
          },
          "metadata": {},
          "execution_count": 27
        },
        {
          "output_type": "display_data",
          "data": {
            "image/png": "[encoded data removed]",
            "text/plain": [
              "<Figure size 432x288 with 1 Axes>"
            ]
          },
          "metadata": {
            "needs_background": "light"
          }
        }
      ]
    },
    {
      "cell_type": "code",
      "source": [
        "plt.scatter(df['TENOR_@Booking'],df['Total O/S'])"
      ],
      "metadata": {
        "colab": {
          "base_uri": "https://localhost:8080/",
          "height": 297
        },
        "id": "NF2ZPpxE_IvX",
        "outputId": "72d7087f-4f5c-410a-b486-97cc7aefa74e"
      },
      "execution_count": 28,
      "outputs": [
        {
          "output_type": "execute_result",
          "data": {
            "text/plain": [
              "<matplotlib.collections.PathCollection at 0x7f8bc7fbaf10>"
            ]
          },
          "metadata": {},
          "execution_count": 28
        },
        {
          "output_type": "display_data",
          "data": {
            "image/png": "[encoded data removed]",
            "text/plain": [
              "<Figure size 432x288 with 1 Axes>"
            ]
          },
          "metadata": {
            "needs_background": "light"
          }
        }
      ]
    },
    {
      "cell_type": "code",
      "source": [
        "plt.scatter(df['TENOR_@Booking'],df['Loan Term'])"
      ],
      "metadata": {
        "colab": {
          "base_uri": "https://localhost:8080/",
          "height": 286
        },
        "id": "bL3L7pvP_K34",
        "outputId": "948ad671-628a-4bf8-f174-ee8fc4d10494"
      },
      "execution_count": 29,
      "outputs": [
        {
          "output_type": "execute_result",
          "data": {
            "text/plain": [
              "<matplotlib.collections.PathCollection at 0x7f8bc8063750>"
            ]
          },
          "metadata": {},
          "execution_count": 29
        },
        {
          "output_type": "display_data",
          "data": {
            "image/png": "[encoded data removed]",
            "text/plain": [
              "<Figure size 432x288 with 1 Axes>"
            ]
          },
          "metadata": {
            "needs_background": "light"
          }
        }
      ]
    },
    {
      "cell_type": "code",
      "source": [
        "plt.scatter(df['AGE'],df['Total O/S'])"
      ],
      "metadata": {
        "colab": {
          "base_uri": "https://localhost:8080/",
          "height": 297
        },
        "id": "uArIMmVU_P7q",
        "outputId": "3e91c746-4816-492e-bfeb-d26944d14053"
      },
      "execution_count": 30,
      "outputs": [
        {
          "output_type": "execute_result",
          "data": {
            "text/plain": [
              "<matplotlib.collections.PathCollection at 0x7f8bc8006e50>"
            ]
          },
          "metadata": {},
          "execution_count": 30
        },
        {
          "output_type": "display_data",
          "data": {
            "image/png": "[encoded data removed]",
            "text/plain": [
              "<Figure size 432x288 with 1 Axes>"
            ]
          },
          "metadata": {
            "needs_background": "light"
          }
        }
      ]
    },
    {
      "cell_type": "code",
      "source": [
        "plt.scatter(df['AGE'],df['Loan Term'])"
      ],
      "metadata": {
        "colab": {
          "base_uri": "https://localhost:8080/",
          "height": 286
        },
        "id": "jZvzDoRe_QgU",
        "outputId": "1b68215d-25e1-4642-c100-dc6b297584e0"
      },
      "execution_count": 31,
      "outputs": [
        {
          "output_type": "execute_result",
          "data": {
            "text/plain": [
              "<matplotlib.collections.PathCollection at 0x7f8bc806efd0>"
            ]
          },
          "metadata": {},
          "execution_count": 31
        },
        {
          "output_type": "display_data",
          "data": {
            "image/png": "[encoded data removed]",
            "text/plain": [
              "<Figure size 432x288 with 1 Axes>"
            ]
          },
          "metadata": {
            "needs_background": "light"
          }
        }
      ]
    },
    {
      "cell_type": "code",
      "source": [
        "plt.scatter(df['GENDER'],df['Total O/S'])"
      ],
      "metadata": {
        "colab": {
          "base_uri": "https://localhost:8080/",
          "height": 297
        },
        "id": "_WyYn_8-_RDS",
        "outputId": "035104fd-b7c3-49f6-8d01-0381643e7ec7"
      },
      "execution_count": 32,
      "outputs": [
        {
          "output_type": "execute_result",
          "data": {
            "text/plain": [
              "<matplotlib.collections.PathCollection at 0x7f8bc8a68910>"
            ]
          },
          "metadata": {},
          "execution_count": 32
        },
        {
          "output_type": "display_data",
          "data": {
            "image/png": "[encoded data removed]",
            "text/plain": [
              "<Figure size 432x288 with 1 Axes>"
            ]
          },
          "metadata": {
            "needs_background": "light"
          }
        }
      ]
    },
    {
      "cell_type": "code",
      "source": [
        "plt.scatter(df['GENDER'],df['Loan Term'])"
      ],
      "metadata": {
        "colab": {
          "base_uri": "https://localhost:8080/",
          "height": 286
        },
        "id": "1OCqsUBF_Uqr",
        "outputId": "d63e34d4-b75d-4f01-f68e-016dcd7545d4"
      },
      "execution_count": 33,
      "outputs": [
        {
          "output_type": "execute_result",
          "data": {
            "text/plain": [
              "<matplotlib.collections.PathCollection at 0x7f8bc8adbad0>"
            ]
          },
          "metadata": {},
          "execution_count": 33
        },
        {
          "output_type": "display_data",
          "data": {
            "image/png": "[encoded data removed]",
            "text/plain": [
              "<Figure size 432x288 with 1 Axes>"
            ]
          },
          "metadata": {
            "needs_background": "light"
          }
        }
      ]
    },
    {
      "cell_type": "code",
      "source": [
        "plt.scatter(df['Customer Segment'],df['Total O/S'])"
      ],
      "metadata": {
        "colab": {
          "base_uri": "https://localhost:8080/",
          "height": 297
        },
        "id": "KMwNADhD_VFs",
        "outputId": "1cc8d56f-3ff4-496a-b354-7ba0c5fbfa1c"
      },
      "execution_count": 34,
      "outputs": [
        {
          "output_type": "execute_result",
          "data": {
            "text/plain": [
              "<matplotlib.collections.PathCollection at 0x7f8bc8c12850>"
            ]
          },
          "metadata": {},
          "execution_count": 34
        },
        {
          "output_type": "display_data",
          "data": {
            "image/png": "[encoded data removed]",
            "text/plain": [
              "<Figure size 432x288 with 1 Axes>"
            ]
          },
          "metadata": {
            "needs_background": "light"
          }
        }
      ]
    },
    {
      "cell_type": "code",
      "source": [
        "plt.scatter(df['Customer Segment'],df['Loan Term'])"
      ],
      "metadata": {
        "colab": {
          "base_uri": "https://localhost:8080/",
          "height": 286
        },
        "id": "eJ2uey-v_Vbv",
        "outputId": "31b3417e-0ddc-4802-80c2-a05d567fe452"
      },
      "execution_count": 35,
      "outputs": [
        {
          "output_type": "execute_result",
          "data": {
            "text/plain": [
              "<matplotlib.collections.PathCollection at 0x7f8bc8f14a10>"
            ]
          },
          "metadata": {},
          "execution_count": 35
        },
        {
          "output_type": "display_data",
          "data": {
            "image/png": "[encoded data removed]",
            "text/plain": [
              "<Figure size 432x288 with 1 Axes>"
            ]
          },
          "metadata": {
            "needs_background": "light"
          }
        }
      ]
    },
    {
      "cell_type": "code",
      "source": [
        "df0 = df[df.cluster == 0]\n",
        "df1 = df[df.cluster == 1]\n",
        "df2 = df[df.cluster == 2]\n",
        "\n",
        "plt.scatter(df0['AGE'],df0['Loan Term'], color = 'green')\n",
        "plt.scatter(df1['AGE'],df1['Loan Term'], color = 'blue')\n",
        "plt.scatter(df2['AGE'],df2['Loan Term'], color = 'black')"
      ],
      "metadata": {
        "colab": {
          "base_uri": "https://localhost:8080/",
          "height": 286
        },
        "id": "LmPOFURW_h_g",
        "outputId": "3e497805-b48e-4137-d483-ac3e25d5e8e3"
      },
      "execution_count": 36,
      "outputs": [
        {
          "output_type": "execute_result",
          "data": {
            "text/plain": [
              "<matplotlib.collections.PathCollection at 0x7f8bc77a1a50>"
            ]
          },
          "metadata": {},
          "execution_count": 36
        },
        {
          "output_type": "display_data",
          "data": {
            "image/png": "[encoded data removed]",
            "text/plain": [
              "<Figure size 432x288 with 1 Axes>"
            ]
          },
          "metadata": {
            "needs_background": "light"
          }
        }
      ]
    },
    {
      "cell_type": "code",
      "source": [
        "plt.scatter(df0['AGE'],df0['Total O/S'], color = \"green\")\n",
        "plt.scatter(df1['AGE'],df1['Total O/S'], color = 'blue')\n",
        "plt.scatter(df2['AGE'],df2['Total O/S'], color = 'black')"
      ],
      "metadata": {
        "colab": {
          "base_uri": "https://localhost:8080/",
          "height": 297
        },
        "id": "lZYZpzfFAkOt",
        "outputId": "791cfc05-73ec-4262-a152-eb745f6d1d3e"
      },
      "execution_count": 37,
      "outputs": [
        {
          "output_type": "execute_result",
          "data": {
            "text/plain": [
              "<matplotlib.collections.PathCollection at 0x7f8bc7260e50>"
            ]
          },
          "metadata": {},
          "execution_count": 37
        },
        {
          "output_type": "display_data",
          "data": {
            "image/png": "[encoded data removed]",
            "text/plain": [
              "<Figure size 432x288 with 1 Axes>"
            ]
          },
          "metadata": {
            "needs_background": "light"
          }
        }
      ]
    },
    {
      "cell_type": "code",
      "source": [
        "plt.scatter(df0['TENOR_@Booking'],df0['Loan Term'], color = \"green\")\n",
        "plt.scatter(df1['TENOR_@Booking'],df1['Loan Term'],color =  'blue')\n",
        "plt.scatter(df2['TENOR_@Booking'],df2['Loan Term'], color = \"black\")"
      ],
      "metadata": {
        "colab": {
          "base_uri": "https://localhost:8080/",
          "height": 286
        },
        "id": "WOw1vIprGMcD",
        "outputId": "051da432-3eed-411a-f135-2f600770530e"
      },
      "execution_count": 38,
      "outputs": [
        {
          "output_type": "execute_result",
          "data": {
            "text/plain": [
              "<matplotlib.collections.PathCollection at 0x7f8bc849df10>"
            ]
          },
          "metadata": {},
          "execution_count": 38
        },
        {
          "output_type": "display_data",
          "data": {
            "image/png": "[encoded data removed]",
            "text/plain": [
              "<Figure size 432x288 with 1 Axes>"
            ]
          },
          "metadata": {
            "needs_background": "light"
          }
        }
      ]
    },
    {
      "cell_type": "code",
      "source": [
        "plt.scatter(df0['TENOR_@Booking'],df0['Total O/S'], color = \"green\")\n",
        "plt.scatter(df1['TENOR_@Booking'],df1['Total O/S'], color = 'blue')\n",
        "plt.scatter(df2['TENOR_@Booking'],df2['Total O/S'], color = \"black\")"
      ],
      "metadata": {
        "colab": {
          "base_uri": "https://localhost:8080/",
          "height": 297
        },
        "id": "tzLvTwbGN7N9",
        "outputId": "d8b5278b-7628-42cc-dc55-dfe7b10a4a77"
      },
      "execution_count": 39,
      "outputs": [
        {
          "output_type": "execute_result",
          "data": {
            "text/plain": [
              "<matplotlib.collections.PathCollection at 0x7f8bc821ea50>"
            ]
          },
          "metadata": {},
          "execution_count": 39
        },
        {
          "output_type": "display_data",
          "data": {
            "image/png": "[encoded data removed]",
            "text/plain": [
              "<Figure size 432x288 with 1 Axes>"
            ]
          },
          "metadata": {
            "needs_background": "light"
          }
        }
      ]
    },
    {
      "cell_type": "code",
      "source": [
        "plt.scatter(df0[' DPD'],df0['Total O/S'], color = \"green\")\n",
        "plt.scatter(df1[' DPD'],df1['Total O/S'], color = 'blue')\n",
        "plt.scatter(df2[' DPD'],df2['Total O/S'], color = \"black\")"
      ],
      "metadata": {
        "colab": {
          "base_uri": "https://localhost:8080/",
          "height": 297
        },
        "id": "1UeBq4h8N8mG",
        "outputId": "5b559139-5214-4870-d97c-74bc1502ba4c"
      },
      "execution_count": 40,
      "outputs": [
        {
          "output_type": "execute_result",
          "data": {
            "text/plain": [
              "<matplotlib.collections.PathCollection at 0x7f8bc80dd810>"
            ]
          },
          "metadata": {},
          "execution_count": 40
        },
        {
          "output_type": "display_data",
          "data": {
            "image/png": "[encoded data removed]",
            "text/plain": [
              "<Figure size 432x288 with 1 Axes>"
            ]
          },
          "metadata": {
            "needs_background": "light"
          }
        }
      ]
    },
    {
      "cell_type": "code",
      "source": [
        "plt.scatter(df0[' DPD'],df0['Loan Term'], color = \"green\")\n",
        "plt.scatter(df1[' DPD'],df1['Loan Term'], color = 'blue')\n",
        "plt.scatter(df2[' DPD'],df2['Loan Term'], color = \"black\")"
      ],
      "metadata": {
        "colab": {
          "base_uri": "https://localhost:8080/",
          "height": 286
        },
        "id": "mYqMwSYMOBf3",
        "outputId": "d62d1f72-8af8-4a4f-c775-18c2c450e058"
      },
      "execution_count": 41,
      "outputs": [
        {
          "output_type": "execute_result",
          "data": {
            "text/plain": [
              "<matplotlib.collections.PathCollection at 0x7f8bc80b4f90>"
            ]
          },
          "metadata": {},
          "execution_count": 41
        },
        {
          "output_type": "display_data",
          "data": {
            "image/png": "[encoded data removed]",
            "text/plain": [
              "<Figure size 432x288 with 1 Axes>"
            ]
          },
          "metadata": {
            "needs_background": "light"
          }
        }
      ]
    },
    {
      "cell_type": "code",
      "source": [
        "plt.scatter(df0['Customer Segment'],df0['Loan Term'], color = \"green\")\n",
        "plt.scatter(df1['Customer Segment'],df1['Loan Term'], color = 'blue')\n",
        "plt.scatter(df2['Customer Segment'],df2['Loan Term'], color = \"black\")"
      ],
      "metadata": {
        "colab": {
          "base_uri": "https://localhost:8080/",
          "height": 286
        },
        "id": "e1iZs_cUOLJS",
        "outputId": "98d9024c-2e8d-4bf2-9b80-5c0160040a86"
      },
      "execution_count": 42,
      "outputs": [
        {
          "output_type": "execute_result",
          "data": {
            "text/plain": [
              "<matplotlib.collections.PathCollection at 0x7f8bc7976e50>"
            ]
          },
          "metadata": {},
          "execution_count": 42
        },
        {
          "output_type": "display_data",
          "data": {
            "image/png": "[encoded data removed]",
            "text/plain": [
              "<Figure size 432x288 with 1 Axes>"
            ]
          },
          "metadata": {
            "needs_background": "light"
          }
        }
      ]
    },
    {
      "cell_type": "code",
      "source": [
        "plt.scatter(df0['Customer Segment'],df0['Total O/S'], color = \"green\")\n",
        "plt.scatter(df1['Customer Segment'],df1['Total O/S'], color = 'blue')\n",
        "plt.scatter(df2['Customer Segment'],df2['Total O/S'], color = \"black\")"
      ],
      "metadata": {
        "colab": {
          "base_uri": "https://localhost:8080/",
          "height": 297
        },
        "id": "TzhAkrklOSQ4",
        "outputId": "eea960dc-407a-4792-b6af-b7ce4ff61214"
      },
      "execution_count": 43,
      "outputs": [
        {
          "output_type": "execute_result",
          "data": {
            "text/plain": [
              "<matplotlib.collections.PathCollection at 0x7f8bc9093dd0>"
            ]
          },
          "metadata": {},
          "execution_count": 43
        },
        {
          "output_type": "display_data",
          "data": {
            "image/png": "[encoded data removed]",
            "text/plain": [
              "<Figure size 432x288 with 1 Axes>"
            ]
          },
          "metadata": {
            "needs_background": "light"
          }
        }
      ]
    },
    {
      "cell_type": "code",
      "source": [
        "plt.scatter(df0['GENDER'],df0['Total O/S'], color = \"green\")\n",
        "plt.scatter(df1['GENDER'],df1['Total O/S'], color = 'blue')\n",
        "plt.scatter(df2['GENDER'],df2['Total O/S'], color = \"black\")"
      ],
      "metadata": {
        "colab": {
          "base_uri": "https://localhost:8080/",
          "height": 297
        },
        "id": "08R0ARLeOWUV",
        "outputId": "65042b65-d888-4da1-d326-41f6a05789a9"
      },
      "execution_count": 44,
      "outputs": [
        {
          "output_type": "execute_result",
          "data": {
            "text/plain": [
              "<matplotlib.collections.PathCollection at 0x7f8bc8e2bdd0>"
            ]
          },
          "metadata": {},
          "execution_count": 44
        },
        {
          "output_type": "display_data",
          "data": {
            "image/png": "[encoded data removed]",
            "text/plain": [
              "<Figure size 432x288 with 1 Axes>"
            ]
          },
          "metadata": {
            "needs_background": "light"
          }
        }
      ]
    },
    {
      "cell_type": "code",
      "source": [
        "plt.scatter(df0['GENDER'],df0['Loan Term'], color = \"green\")\n",
        "plt.scatter(df1['GENDER'],df1['Loan Term'], color = 'blue')\n",
        "plt.scatter(df2['GENDER'],df2['Loan Term'], color = \"black\")"
      ],
      "metadata": {
        "colab": {
          "base_uri": "https://localhost:8080/",
          "height": 286
        },
        "id": "gWf8Nml8OZqn",
        "outputId": "ef2a0f28-38ab-4c1f-c45f-ff387a9ee330"
      },
      "execution_count": 45,
      "outputs": [
        {
          "output_type": "execute_result",
          "data": {
            "text/plain": [
              "<matplotlib.collections.PathCollection at 0x7f8bc887ef50>"
            ]
          },
          "metadata": {},
          "execution_count": 45
        },
        {
          "output_type": "display_data",
          "data": {
            "image/png": "[encoded data removed]",
            "text/plain": [
              "<Figure size 432x288 with 1 Axes>"
            ]
          },
          "metadata": {
            "needs_background": "light"
          }
        }
      ]
    }
  ]
}